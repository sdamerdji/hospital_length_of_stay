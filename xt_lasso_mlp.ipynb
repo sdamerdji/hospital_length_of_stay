{
 "cells": [
  {
   "cell_type": "code",
   "execution_count": 1,
   "metadata": {},
   "outputs": [],
   "source": [
    "import pandas as pd\n",
    "import numpy as np\n",
    "import math\n",
    "import time\n",
    "import numpy as np\n",
    "# If pandas is not installed, please uncomment the following line:\n",
    "#!pip install pandas\n",
    "#!pip install sklearn\n",
    "#!pip install pathos\n"
   ]
  },
  {
   "cell_type": "code",
   "execution_count": 2,
   "metadata": {},
   "outputs": [],
   "source": [
    "#full\n",
    "\n",
    "def read_mimic_csv(path):\n",
    "    start = time.time()\n",
    "    TextFileReader = pd.read_csv(path, chunksize=100000, iterator=True, low_memory=False)\n",
    "    df = pd.concat(TextFileReader, ignore_index=True)\n",
    "    print(path, \":\" , round(time.time() - start, 1), 'seconds')\n",
    "    return df\n",
    "\n"
   ]
  },
  {
   "cell_type": "code",
   "execution_count": 3,
   "metadata": {},
   "outputs": [
    {
     "name": "stdout",
     "output_type": "stream",
     "text": [
      "../../payload/PATIENTS.csv : 0.1 seconds\n",
      "../../payload/DIAGNOSES_ICD.csv : 0.3 seconds\n",
      "../../payload/ADMISSIONS.csv : 0.3 seconds\n"
     ]
    }
   ],
   "source": [
    "path = '../../payload/' # change as needed\n",
    "patients = read_mimic_csv(path + 'PATIENTS.csv')\n",
    "diagnoses = read_mimic_csv(path + 'DIAGNOSES_ICD.csv')\n",
    "admissions = read_mimic_csv(path + 'ADMISSIONS.csv')\n"
   ]
  },
  {
   "cell_type": "code",
   "execution_count": 4,
   "metadata": {},
   "outputs": [],
   "source": [
    "ccs = open(\"../../payload/ccs.txt\", \"r\").read()\n",
    "\n",
    "# Create dictionary. Key is ICD9 code for a diagnosis. Value is general description of diagnosis.\n",
    "ccs = ccs[ccs.find('Tuberculosis'):]\n",
    "icd9={}\n",
    "\n",
    "def update_icd9(cur_value, section):\n",
    "    while section:\n",
    "        if section[:4] == '\\n\\n':\n",
    "            print('new value')\n",
    "            section = section[4:]\n",
    "            cur_value = section[:section.find('\\n')]\n",
    "            section = section[section.find('\\n'):]\n",
    "        elif section[0] == ' ':\n",
    "            section = section[1:]\n",
    "        elif section[:2] == '\\n':\n",
    "            section = section[2:]\n",
    "        else:\n",
    "            if section.find(' ') >= 0: # not end of document\n",
    "                if -1 < section.find('\\n') < section.find(' '): # if end of line\n",
    "                    cur_key = section[:section.find('\\n')]\n",
    "                else: # if not end of line\n",
    "                    cur_key = section[:section.find(' ')]\n",
    "                section = section[section.find(' '):]\n",
    "                icd9[cur_key] = cur_value\n",
    "\n",
    "            else: # end of section\n",
    "                cur_key = section\n",
    "                icd9[cur_key] = cur_value\n",
    "                section = \"\"\n",
    "            \n",
    "for section in ccs.split(sep='\\n\\n'): # for each family of codes\n",
    "    cur_value = section[:section.find('\\n')] # get the name for that family\n",
    "    section = section[section.find('\\n')+1:] # and for all the codes under that family\n",
    "    update_icd9(cur_value, section) # add those codes as keys to a dictionary, where their values\n",
    "                                    # are the name for the family of codes\n",
    "\n",
    "diagnoses.ICD9_CODE = diagnoses.ICD9_CODE.apply(lambda x: icd9.get(x,-1))"
   ]
  },
  {
   "cell_type": "markdown",
   "metadata": {},
   "source": [
    "#### Create LOS feature"
   ]
  },
  {
   "cell_type": "code",
   "execution_count": 5,
   "metadata": {},
   "outputs": [],
   "source": [
    "df = admissions[['SUBJECT_ID',\n",
    "                 'HADM_ID',\n",
    "                 'ADMISSION_TYPE',\n",
    "                 'ADMITTIME']].copy()\n",
    "\n",
    "df['LOS'] = (pd.to_datetime(admissions['DISCHTIME']) - pd.to_datetime(admissions['ADMITTIME'])).astype('timedelta64[h]') \n",
    "df['ADMITTIME'] = pd.to_datetime(admissions['ADMITTIME']) "
   ]
  },
  {
   "cell_type": "code",
   "execution_count": 6,
   "metadata": {},
   "outputs": [],
   "source": [
    "df = df[df['LOS'] >= 0]\n",
    "diagnoses = pd.get_dummies(diagnoses[['HADM_ID','ICD9_CODE']], drop_first=False)\n",
    "diagnoses = diagnoses.groupby('HADM_ID').agg('sum')\n",
    "df = pd.merge(df, diagnoses, on='HADM_ID', how='left') \n",
    "# For mortality classification, I'm keeping DOD_HOSP so I can create a boolean response for death\n",
    "# NB: DOD includes ALL deaths (before & after), while DOD_HOSP only includes deaths occuring inside the hospital. \n",
    "df = pd.merge(df, # drop DOD_HOSP too if not classifying mortality\n",
    "              patients.drop(columns = ['DOD', 'DOD_SSN','ROW_ID','EXPIRE_FLAG']),\n",
    "              on='SUBJECT_ID',\n",
    "              how='left') \n",
    "\n",
    "median_dob_shift = 300 - 91.4 # For old patients (median age of 91.4), dob was shifted to be 300 yrs prior to first visit\n",
    "df['AGE'] = (pd.to_datetime(df['ADMITTIME']).dt.date - pd.to_datetime(df['DOB']).dt.date)\n",
    "df['AGE'] = [age.days/365 if age.days/365<300 else age.days/365-median_dob_shift for age in df['AGE']]\n",
    "\n",
    "df['DIED'] = df['DOD_HOSP'].apply(lambda x: not pd.isnull(x))\n",
    "\n",
    "df['ADMITHOUR_trig_x'] = pd.to_datetime(df['ADMITTIME']).dt.hour.apply(math.cos)\n",
    "df['ADMITHOUR_trig_y'] = pd.to_datetime(df['ADMITTIME']).dt.hour.apply(math.sin)\n",
    "df['ADMITHOUR'] = pd.to_datetime(df['ADMITTIME']).dt.hour\n",
    "\n",
    "df.drop(['DOD_HOSP','DOB'], axis=1, inplace=True)"
   ]
  },
  {
   "cell_type": "code",
   "execution_count": 7,
   "metadata": {},
   "outputs": [
    {
     "name": "stdout",
     "output_type": "stream",
     "text": [
      "Shape before adding dummy variables: (58878, 293)\n",
      "Shape after adding dummy variables: (58878, 295)\n"
     ]
    }
   ],
   "source": [
    "print('Shape before adding dummy variables:',df.shape)\n",
    "df = pd.get_dummies(df, drop_first=True)\n",
    "print('Shape after adding dummy variables:', df.shape)\n",
    "\n",
    "# It turns out ADMITHOUR after trig transform is highly predictive of whether you die"
   ]
  },
  {
   "cell_type": "code",
   "execution_count": 8,
   "metadata": {},
   "outputs": [
    {
     "name": "stdout",
     "output_type": "stream",
     "text": [
      "first_day_chartevents.csv : 0.2 seconds\n"
     ]
    }
   ],
   "source": [
    "first_chartevents = read_mimic_csv('first_day_chartevents.csv')\n",
    "first_chartevents = first_chartevents.drop(columns = [\"Unnamed: 0\"])\n",
    "df = pd.merge(df, first_chartevents, on='HADM_ID',\n",
    "              how='left') "
   ]
  },
  {
   "cell_type": "code",
   "execution_count": 9,
   "metadata": {},
   "outputs": [
    {
     "name": "stdout",
     "output_type": "stream",
     "text": [
      "first_serv_pres_micro.csv : 0.4 seconds\n"
     ]
    }
   ],
   "source": [
    "# mandi's merged tables\n",
    "first_serv_pres_micro = read_mimic_csv('first_serv_pres_micro.csv')\n",
    "first_serv_pres_micro = first_serv_pres_micro.drop(columns = ['Unnamed: 0'])\n",
    "\n",
    "hadm = first_serv_pres_micro.index.values\n",
    "first_serv_pres_micro['HADM_ID'] = hadm\n",
    "\n",
    "df = pd.merge(df, first_serv_pres_micro, on=\"HADM_ID\", how = 'left')\n"
   ]
  },
  {
   "cell_type": "markdown",
   "metadata": {},
   "source": [
    "# LASSO"
   ]
  },
  {
   "cell_type": "code",
   "execution_count": 16,
   "metadata": {},
   "outputs": [],
   "source": [
    "import pandas as pd\n",
    "import numpy as np\n",
    "import math, time\n",
    "import matplotlib.pyplot as plt\n",
    "%matplotlib inline\n",
    "plt.style.use('ggplot')\n",
    "import sklearn\n",
    "from sklearn.linear_model import LinearRegression, Lasso\n",
    "from sklearn.model_selection import train_test_split \n",
    "from sklearn import metrics, linear_model\n",
    "from sklearn.model_selection import LeaveOneGroupOut\n",
    "from scipy import stats\n",
    "\n",
    "from keras.models import Sequential\n",
    "from keras.layers import Dense, Activation\n",
    "%matplotlib inline\n",
    "#import d2l\n",
    "from mxnet import autograd, gluon, init, nd\n",
    "from mxnet.gluon import data as gdata, loss as gloss, nn, utils"
   ]
  },
  {
   "cell_type": "code",
   "execution_count": 17,
   "metadata": {
    "scrolled": true
   },
   "outputs": [],
   "source": [
    "df_demo = df"
   ]
  },
  {
   "cell_type": "code",
   "execution_count": 18,
   "metadata": {},
   "outputs": [],
   "source": [
    "df_demo.drop([col for col, val in df_demo.sum().iteritems() if type(val) == int and val < 2], axis=1, inplace=True)\n",
    "df_demo.shape\n",
    "\n",
    "df_demo = df_demo.drop(columns = [\"SUBJECT_ID\",\"ADMITTIME\"])\n",
    "df_demo = df_demo.fillna(0)\n",
    "\n",
    "\n",
    "X = df_demo.iloc[:,3:]\n",
    "y = df_demo.iloc[:,1]\n",
    "X_train_demo, X_test_demo, y_train_demo, y_test_demo = train_test_split(X, y, test_size=0.2, random_state=0)  "
   ]
  },
  {
   "cell_type": "code",
   "execution_count": 19,
   "metadata": {},
   "outputs": [
    {
     "data": {
      "text/plain": [
       "12.702288627624512"
      ]
     },
     "execution_count": 19,
     "metadata": {},
     "output_type": "execute_result"
    }
   ],
   "source": [
    "time1 = time.time()\n",
    "\n",
    "#alphas = np.array([-1, -0.1 , 0.01, 0.1, 1, 10 , 100])\n",
    "alphas = np.array([-1, 1, 10])\n",
    "\n",
    "lassocv = linear_model.LassoCV(cv = 5)\n",
    "lassocv.fit(X, y)\n",
    "lassocv_score = lassocv.score(X, y)\n",
    "lassocv_alpha = lassocv.alpha_\n",
    "\n",
    "time.time() - time1"
   ]
  },
  {
   "cell_type": "code",
   "execution_count": 20,
   "metadata": {},
   "outputs": [
    {
     "name": "stdout",
     "output_type": "stream",
     "text": [
      "training score:  0.4268066049780428\n",
      "test score:  0.4308138700610733\n",
      "number of features used:  120\n"
     ]
    },
    {
     "data": {
      "text/plain": [
       "5.596412420272827"
      ]
     },
     "execution_count": 20,
     "metadata": {},
     "output_type": "execute_result"
    }
   ],
   "source": [
    "time1 = time.time()\n",
    "\n",
    "lasso = Lasso(alpha = lassocv_alpha)#, max_iter = 10e6)\n",
    "lasso.fit(X_train_demo, y_train_demo)\n",
    "train_score = lasso.score(X_train_demo, y_train_demo)\n",
    "test_score = lasso.score(X_test_demo, y_test_demo)\n",
    "coef_used = np.sum(lasso.coef_ != 0)\n",
    "\n",
    "print('training score: ', train_score)\n",
    "print('test score: ', test_score)\n",
    "print('number of features used: ', coef_used)\n",
    "\n",
    "time.time() - time1"
   ]
  },
  {
   "cell_type": "code",
   "execution_count": 21,
   "metadata": {},
   "outputs": [],
   "source": [
    "zeros = []\n",
    "\n",
    "used = []\n",
    "\n",
    "for i in range(len(lasso.coef_ )):\n",
    "    if lasso.coef_[i] == 0:\n",
    "        zeros += [i]\n",
    "    else:\n",
    "        used += [i]\n",
    "\n",
    "#test to see what it looks like:\n",
    "#X.iloc[0:10, used]"
   ]
  },
  {
   "cell_type": "code",
   "execution_count": 22,
   "metadata": {},
   "outputs": [
    {
     "name": "stderr",
     "output_type": "stream",
     "text": [
      "/home/ubuntu/anaconda3/envs/mxnet_p36/lib/python3.6/site-packages/ipykernel_launcher.py:2: SettingWithCopyWarning: \n",
      "A value is trying to be set on a copy of a slice from a DataFrame.\n",
      "Try using .loc[row_indexer,col_indexer] = value instead\n",
      "\n",
      "See the caveats in the documentation: http://pandas.pydata.org/pandas-docs/stable/indexing.html#indexing-view-versus-copy\n",
      "  \n"
     ]
    }
   ],
   "source": [
    "filtered = X.iloc[:, used]\n",
    "filtered['LOS'] = y"
   ]
  },
  {
   "cell_type": "markdown",
   "metadata": {},
   "source": [
    "# MLP"
   ]
  },
  {
   "cell_type": "code",
   "execution_count": 23,
   "metadata": {},
   "outputs": [],
   "source": [
    "import pandas as pd\n",
    "import numpy as np\n",
    "import math, time\n",
    "import matplotlib.pyplot as plt\n",
    "%matplotlib inline\n",
    "plt.style.use('ggplot')\n",
    "from sklearn.linear_model import LinearRegression\n",
    "from sklearn.model_selection import train_test_split \n",
    "from sklearn import metrics \n",
    "from scipy import stats\n",
    "\n",
    "from keras.models import Sequential\n",
    "from keras.layers import Dense, Activation, BatchNormalization"
   ]
  },
  {
   "cell_type": "code",
   "execution_count": 24,
   "metadata": {},
   "outputs": [
    {
     "ename": "ModuleNotFoundError",
     "evalue": "No module named 'd2l'",
     "output_type": "error",
     "traceback": [
      "\u001b[0;31m---------------------------------------------------------------------------\u001b[0m",
      "\u001b[0;31mModuleNotFoundError\u001b[0m                       Traceback (most recent call last)",
      "\u001b[0;32m<ipython-input-24-64f12d7b9577>\u001b[0m in \u001b[0;36m<module>\u001b[0;34m()\u001b[0m\n\u001b[1;32m      3\u001b[0m \u001b[0;31m#!pip install sklearn\u001b[0m\u001b[0;34m\u001b[0m\u001b[0;34m\u001b[0m\u001b[0m\n\u001b[1;32m      4\u001b[0m \u001b[0mget_ipython\u001b[0m\u001b[0;34m(\u001b[0m\u001b[0;34m)\u001b[0m\u001b[0;34m.\u001b[0m\u001b[0mrun_line_magic\u001b[0m\u001b[0;34m(\u001b[0m\u001b[0;34m'matplotlib'\u001b[0m\u001b[0;34m,\u001b[0m \u001b[0;34m'inline'\u001b[0m\u001b[0;34m)\u001b[0m\u001b[0;34m\u001b[0m\u001b[0m\n\u001b[0;32m----> 5\u001b[0;31m \u001b[0;32mimport\u001b[0m \u001b[0md2l\u001b[0m\u001b[0;34m\u001b[0m\u001b[0m\n\u001b[0m\u001b[1;32m      6\u001b[0m \u001b[0;32mfrom\u001b[0m \u001b[0mmxnet\u001b[0m \u001b[0;32mimport\u001b[0m \u001b[0mautograd\u001b[0m\u001b[0;34m,\u001b[0m \u001b[0mgluon\u001b[0m\u001b[0;34m,\u001b[0m \u001b[0minit\u001b[0m\u001b[0;34m,\u001b[0m \u001b[0mnd\u001b[0m\u001b[0;34m\u001b[0m\u001b[0m\n\u001b[1;32m      7\u001b[0m \u001b[0;32mfrom\u001b[0m \u001b[0mmxnet\u001b[0m\u001b[0;34m.\u001b[0m\u001b[0mgluon\u001b[0m \u001b[0;32mimport\u001b[0m \u001b[0mdata\u001b[0m \u001b[0;32mas\u001b[0m \u001b[0mgdata\u001b[0m\u001b[0;34m,\u001b[0m \u001b[0mloss\u001b[0m \u001b[0;32mas\u001b[0m \u001b[0mgloss\u001b[0m\u001b[0;34m,\u001b[0m \u001b[0mnn\u001b[0m\u001b[0;34m,\u001b[0m \u001b[0mutils\u001b[0m\u001b[0;34m\u001b[0m\u001b[0m\n",
      "\u001b[0;31mModuleNotFoundError\u001b[0m: No module named 'd2l'"
     ]
    }
   ],
   "source": [
    "# If pandas is not installed, please uncomment the following line:\n",
    "#!pip install pandas\n",
    "#!pip install sklearn\n",
    "%matplotlib inline\n",
    "import d2l\n",
    "from mxnet import autograd, gluon, init, nd\n",
    "from mxnet.gluon import data as gdata, loss as gloss, nn, utils"
   ]
  },
  {
   "cell_type": "code",
   "execution_count": 98,
   "metadata": {},
   "outputs": [],
   "source": [
    "bert = pd.read_pickle('bert.pkl')"
   ]
  },
  {
   "cell_type": "code",
   "execution_count": 99,
   "metadata": {},
   "outputs": [],
   "source": [
    "bert_df = pd.merge(df_demo, bert, on='HADM_ID',\n",
    "              how='left') "
   ]
  },
  {
   "cell_type": "code",
   "execution_count": 100,
   "metadata": {},
   "outputs": [],
   "source": [
    "bert_df['VEC'] = bert_df['VEC'].apply(lambda d: d if isinstance(d, np.ndarray) else [[0]]*768)\n",
    "bert_df = pd.merge(bert_df.iloc[:,:-1], \n",
    "                   pd.DataFrame(bert_df.VEC.values.tolist(), index= bert_df.HADM_ID).applymap(lambda x: x[0]),\n",
    "                   on='HADM_ID',\n",
    "                   how='inner')"
   ]
  },
  {
   "cell_type": "code",
   "execution_count": 97,
   "metadata": {},
   "outputs": [],
   "source": [
    "#post lasso data\n",
    "#filtered = pd.read_csv('filtered.csv') \n",
    "filtered['VEC'] = bert_df.iloc[:,bert_df.shape[1]-1]"
   ]
  },
  {
   "cell_type": "code",
   "execution_count": 103,
   "metadata": {},
   "outputs": [],
   "source": [
    "# if when u run lasso, there are different number of features,\n",
    "# just put labels as last column below.\n",
    "X = bert_df.drop(columns = ['LOS','DIED'])\n",
    "y = bert_df['LOS']"
   ]
  },
  {
   "cell_type": "markdown",
   "metadata": {},
   "source": [
    "# ISSUE:\n",
    "can't figure out how to run with bert vector. take out below and run model"
   ]
  },
  {
   "cell_type": "code",
   "execution_count": 105,
   "metadata": {},
   "outputs": [],
   "source": [
    "X_train, X_test, y_train, y_test = train_test_split(X, y, test_size=0.2, random_state=0)  "
   ]
  },
  {
   "cell_type": "code",
   "execution_count": 106,
   "metadata": {},
   "outputs": [
    {
     "name": "stdout",
     "output_type": "stream",
     "text": [
      "training data dims: X: (47102, 1180), y: (47102,)\n",
      "test data dims: X: (11776, 1180), y: (11776,)\n",
      "Epoch 1/50\n",
      " 2560/47102 [>.............................] - ETA: 1:44 - loss: 35.9834"
     ]
    },
    {
     "name": "stderr",
     "output_type": "stream",
     "text": [
      "/home/ubuntu/anaconda3/envs/mxnet_p36/lib/python3.6/site-packages/mxnet/module/bucketing_module.py:408: UserWarning: Optimizer created manually outside Module but rescale_grad is not normalized to 1.0/batch_size/num_workers (1.0 vs. 0.00390625). Is this intended?\n",
      "  force_init=force_init)\n"
     ]
    },
    {
     "name": "stdout",
     "output_type": "stream",
     "text": [
      "47102/47102 [==============================] - 7s 156us/step - loss: 18.6139\n",
      "Epoch 2/50\n",
      "47102/47102 [==============================] - 1s 29us/step - loss: 9.8857\n",
      "Epoch 3/50\n",
      "47102/47102 [==============================] - 1s 30us/step - loss: 5.6056\n",
      "Epoch 4/50\n",
      "47102/47102 [==============================] - 1s 31us/step - loss: 3.8719\n",
      "Epoch 5/50\n",
      "47102/47102 [==============================] - 1s 30us/step - loss: 2.9423\n",
      "Epoch 6/50\n",
      "47102/47102 [==============================] - 1s 29us/step - loss: 2.3722\n",
      "Epoch 7/50\n",
      "47102/47102 [==============================] - 1s 30us/step - loss: 1.9966\n",
      "Epoch 8/50\n",
      "47102/47102 [==============================] - 2s 32us/step - loss: 1.7368\n",
      "Epoch 9/50\n",
      "47102/47102 [==============================] - 1s 32us/step - loss: 1.5688\n",
      "Epoch 10/50\n",
      "47102/47102 [==============================] - 2s 32us/step - loss: 1.4400\n",
      "Epoch 11/50\n",
      "47102/47102 [==============================] - 1s 32us/step - loss: 1.3777\n",
      "Epoch 12/50\n",
      "47102/47102 [==============================] - 2s 32us/step - loss: 1.3814\n",
      "Epoch 13/50\n",
      "47102/47102 [==============================] - 1s 31us/step - loss: 1.3302\n",
      "Epoch 14/50\n",
      "47102/47102 [==============================] - 2s 32us/step - loss: 1.4178\n",
      "Epoch 15/50\n",
      "47102/47102 [==============================] - 2s 33us/step - loss: 1.3949\n",
      "Epoch 16/50\n",
      "47102/47102 [==============================] - 1s 32us/step - loss: 1.3716\n",
      "Epoch 17/50\n",
      "47102/47102 [==============================] - 2s 32us/step - loss: 1.4565\n",
      "Epoch 18/50\n",
      "47102/47102 [==============================] - 2s 32us/step - loss: 1.3841\n",
      "Epoch 19/50\n",
      "47102/47102 [==============================] - 1s 32us/step - loss: 1.3518\n",
      "Epoch 20/50\n",
      "47102/47102 [==============================] - 2s 32us/step - loss: 1.3629\n",
      "Epoch 21/50\n",
      "47102/47102 [==============================] - 2s 33us/step - loss: 1.3402\n",
      "Epoch 22/50\n",
      "47102/47102 [==============================] - 2s 32us/step - loss: 1.3393\n",
      "Epoch 23/50\n",
      "47102/47102 [==============================] - 2s 32us/step - loss: 1.3274\n",
      "Epoch 24/50\n",
      "47102/47102 [==============================] - 2s 33us/step - loss: 1.3349\n",
      "Epoch 25/50\n",
      "47102/47102 [==============================] - 1s 31us/step - loss: 1.3289\n",
      "Epoch 26/50\n",
      "47102/47102 [==============================] - 2s 32us/step - loss: 1.4321\n",
      "Epoch 27/50\n",
      "47102/47102 [==============================] - 2s 32us/step - loss: 1.3472\n",
      "Epoch 28/50\n",
      "47102/47102 [==============================] - 2s 32us/step - loss: 1.3468\n",
      "Epoch 29/50\n",
      "47102/47102 [==============================] - 1s 32us/step - loss: 1.3542\n",
      "Epoch 30/50\n",
      "47102/47102 [==============================] - 2s 32us/step - loss: 1.3694\n",
      "Epoch 31/50\n",
      "47102/47102 [==============================] - 1s 31us/step - loss: 1.3534\n",
      "Epoch 32/50\n",
      "47102/47102 [==============================] - 2s 32us/step - loss: 1.3459\n",
      "Epoch 33/50\n",
      "47102/47102 [==============================] - 2s 32us/step - loss: 1.3548\n",
      "Epoch 34/50\n",
      "47102/47102 [==============================] - 2s 32us/step - loss: 1.3643\n",
      "Epoch 35/50\n",
      "47102/47102 [==============================] - 2s 32us/step - loss: 1.3509\n",
      "Epoch 36/50\n",
      "47102/47102 [==============================] - 1s 32us/step - loss: 1.4813\n",
      "Epoch 37/50\n",
      "47102/47102 [==============================] - 2s 32us/step - loss: 1.4163\n",
      "Epoch 38/50\n",
      "47102/47102 [==============================] - 1s 32us/step - loss: 1.4096\n",
      "Epoch 39/50\n",
      "47102/47102 [==============================] - 2s 32us/step - loss: 1.4037\n",
      "Epoch 40/50\n",
      "47102/47102 [==============================] - 2s 32us/step - loss: 1.4123\n",
      "Epoch 41/50\n",
      "47102/47102 [==============================] - 2s 32us/step - loss: 1.3997\n",
      "Epoch 42/50\n",
      "47102/47102 [==============================] - 2s 32us/step - loss: 1.4097\n",
      "Epoch 43/50\n",
      "47102/47102 [==============================] - 2s 32us/step - loss: 1.4075\n",
      "Epoch 44/50\n",
      "47102/47102 [==============================] - 1s 31us/step - loss: 1.4035\n",
      "Epoch 45/50\n",
      "47102/47102 [==============================] - 1s 32us/step - loss: 1.4362\n",
      "Epoch 46/50\n",
      "47102/47102 [==============================] - 1s 32us/step - loss: 1.4084\n",
      "Epoch 47/50\n",
      "47102/47102 [==============================] - 2s 32us/step - loss: 1.4100\n",
      "Epoch 48/50\n",
      "47102/47102 [==============================] - 2s 33us/step - loss: 1.4245\n",
      "Epoch 49/50\n",
      "47102/47102 [==============================] - 1s 31us/step - loss: 1.4068\n",
      "Epoch 50/50\n",
      "47102/47102 [==============================] - 1s 31us/step - loss: 1.4027\n"
     ]
    }
   ],
   "source": [
    "from keras import regularizers\n",
    "model = Sequential()\n",
    "model.add(Dense(512, kernel_initializer = 'normal', activation = 'relu', kernel_regularizer = regularizers.l2(0.01)))\n",
    "#model.add(Dense(64, kernel_initializer = 'normal', activation = 'relu', kernel_regularizer = regularizers.l2(0.01)))\n",
    "model.add(BatchNormalization(axis=-1, \n",
    "                             momentum=0.99, epsilon=0.001, \n",
    "                             center=True, scale=True, \n",
    "                             beta_initializer='zeros', \n",
    "                             gamma_initializer='ones', \n",
    "                             moving_mean_initializer='zeros', \n",
    "                             moving_variance_initializer='ones', \n",
    "                             beta_regularizer=None, gamma_regularizer=None, \n",
    "                             beta_constraint=None, gamma_constraint=None))\n",
    "model.add(Dense(128, activation = 'relu', kernel_regularizer = regularizers.l2(0.01)))\n",
    "model.add(BatchNormalization(axis=-1, \n",
    "                             momentum=0.99, epsilon=0.001, \n",
    "                             center=True, scale=True, \n",
    "                             beta_initializer='zeros', \n",
    "                             gamma_initializer='ones', \n",
    "                             moving_mean_initializer='zeros', \n",
    "                             moving_variance_initializer='ones', \n",
    "                             beta_regularizer=None, gamma_regularizer=None, \n",
    "                             beta_constraint=None, gamma_constraint=None))\n",
    "model.add(Dense(1))\n",
    "#model.compile(loss = 'rmse', optimizer = 'adam')\n",
    "model.compile(loss = 'msle', optimizer = 'adam')\n",
    "\n",
    "X_train = np.array(X_train)\n",
    "y_train = np.array(y_train)\n",
    "X_test = np.array(X_test)\n",
    "y_test = np.array(y_test)\n",
    "\n",
    "print(f'training data dims: X: {X_train.shape}, y: {y_train.shape}')\n",
    "print(f'test data dims: X: {X_test.shape}, y: {y_test.shape}')\n",
    "\n",
    "history = model.fit(X_train, y_train, epochs = 50, batch_size=256)\n"
   ]
  },
  {
   "cell_type": "code",
   "execution_count": 107,
   "metadata": {},
   "outputs": [
    {
     "data": {
      "image/png": "[encoded data removed]",
      "text/plain": [
       "<Figure size 432x288 with 1 Axes>"
      ]
     },
     "metadata": {},
     "output_type": "display_data"
    }
   ],
   "source": [
    "plt.plot(history.history['loss'])\n",
    "plt.title('Mean squared log error history')\n",
    "plt.xlabel('epoch')\n",
    "plt.ylabel('MSLE')\n",
    "plt.show()"
   ]
  },
  {
   "cell_type": "code",
   "execution_count": 108,
   "metadata": {
    "scrolled": false
   },
   "outputs": [
    {
     "name": "stdout",
     "output_type": "stream",
     "text": [
      "0.286430027173913\n"
     ]
    }
   ],
   "source": [
    "predictions = model.predict(X_test)\n",
    "predictions = predictions.reshape(len(y_test), )\n",
    "difference = predictions - y_test \n",
    "accuracy = sum(abs(difference) <= 48) /len(y_test)\n",
    "print(accuracy)"
   ]
  },
  {
   "cell_type": "code",
   "execution_count": null,
   "metadata": {},
   "outputs": [],
   "source": []
  }
 ],
 "metadata": {
  "kernelspec": {
   "display_name": "Python 3",
   "language": "python",
   "name": "python3"
  },
  "language_info": {
   "codemirror_mode": {
    "name": "ipython",
    "version": 3
   },
   "file_extension": ".py",
   "mimetype": "text/x-python",
   "name": "python",
   "nbconvert_exporter": "python",
   "pygments_lexer": "ipython3",
   "version": "3.6.5"
  }
 },
 "nbformat": 4,
 "nbformat_minor": 2
}
